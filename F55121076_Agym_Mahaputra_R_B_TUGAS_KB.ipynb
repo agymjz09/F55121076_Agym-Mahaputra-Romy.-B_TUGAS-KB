{
  "nbformat": 4,
  "nbformat_minor": 0,
  "metadata": {
    "colab": {
      "provenance": [],
      "collapsed_sections": [],
      "authorship_tag": "ABX9TyMzezwqRdRS/LU/D9R3lzmO",
      "include_colab_link": true
    },
    "kernelspec": {
      "name": "python3",
      "display_name": "Python 3"
    },
    "language_info": {
      "name": "python"
    }
  },
  "cells": [
    {
      "cell_type": "markdown",
      "metadata": {
        "id": "view-in-github",
        "colab_type": "text"
      },
      "source": [
        "<a href=\"https://colab.research.google.com/github/agymjz09/F55121076_Agym-Mahaputra-Romy.-B_TUGAS-KB/blob/main/F55121076_Agym_Mahaputra_R_B_TUGAS_KB.ipynb\" target=\"_parent\"><img src=\"https://colab.research.google.com/assets/colab-badge.svg\" alt=\"Open In Colab\"/></a>"
      ]
    },
    {
      "cell_type": "code",
      "execution_count": 15,
      "metadata": {
        "colab": {
          "base_uri": "https://localhost:8080/",
          "height": 616
        },
        "id": "Kg_lqhExnrIM",
        "outputId": "f7dda4ca-d055-4b8b-89e4-a48185d85207"
      },
      "outputs": [
        {
          "output_type": "stream",
          "name": "stdout",
          "text": [
            "              precision    recall  f1-score   support\n",
            "\n",
            "           0       0.76      0.94      0.84        90\n",
            "           1       0.88      0.58      0.70        64\n",
            "\n",
            "    accuracy                           0.79       154\n",
            "   macro avg       0.82      0.76      0.77       154\n",
            "weighted avg       0.81      0.79      0.78       154\n",
            "\n"
          ]
        },
        {
          "output_type": "execute_result",
          "data": {
            "text/plain": [
              "Text(69.0, 0.5, 'Truth')"
            ]
          },
          "metadata": {},
          "execution_count": 15
        },
        {
          "output_type": "display_data",
          "data": {
            "text/plain": [
              "<Figure size 720x504 with 2 Axes>"
            ],
            "image/png": "[encoded data removed]"
          },
          "metadata": {
            "needs_background": "light"
          }
        }
      ],
      "source": [
        "# Nama  : Agym Mahaputra R. B\n",
        "# NIM   : F55121076\n",
        "# Kelas : B\n",
        "\n",
        "# importing libraries\n",
        "import pandas as pd\n",
        "import matplotlib.pyplot as plt\n",
        "import seaborn as sn\n",
        "from sklearn import svm\n",
        "from sklearn.metrics import classification_report, confusion_matrix\n",
        "from sklearn.model_selection import train_test_split\n",
        " \n",
        "# import CSV ke dalam dataset\n",
        "diabetes = pd.read_csv('diabetes.csv')\n",
        " \n",
        "# mendeklarasikan training (tr) dan testing (te) data\n",
        "X = diabetes[['Pregnancies', 'Glucose',\t'BloodPressure', 'SkinThickness',\t'Insulin',\t'BMI',\t'DiabetesPedigreeFunction',\t'Age']]\n",
        "y = diabetes['Outcome']\n",
        " \n",
        "X_tr, X_te, y_tr, y_te = train_test_split(X, y, test_size = 0.2)\n",
        " \n",
        "# gunakan SVM library untuk membuat SVM classifier (cf)\n",
        "cf = svm.SVC(kernel = 'linear')\n",
        " \n",
        "# memasukkan training (tr) data ke dalam classifier (cf)\n",
        "cf.fit(X_tr, y_tr)\n",
        " \n",
        "# memasukkan testing (te) data ke dalam variabel y_predict\n",
        "y_predict = cf.predict(X_te)\n",
        " \n",
        "# menampilkan classification report\n",
        "print(classification_report(y_te, y_predict))\n",
        " \n",
        "# melakukan implementasi testing (te) data dan hasil dari prediksi (y_predict) ke dalam confusion matrix (cm)\n",
        "cm = confusion_matrix(y_te, y_predict)\n",
        " \n",
        "# membuat plotting confusion matrix\n",
        "%matplotlib inline\n",
        "plt.figure (figsize=(10,7))\n",
        "sn.heatmap(cm, annot=True)\n",
        "plt.xlabel('Predicted')\n",
        "plt.ylabel('Truth')"
      ]
    }
  ]
}