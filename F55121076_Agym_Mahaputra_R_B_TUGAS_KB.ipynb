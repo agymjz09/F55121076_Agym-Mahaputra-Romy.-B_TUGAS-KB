{
  "nbformat": 4,
  "nbformat_minor": 0,
  "metadata": {
    "colab": {
      "provenance": [],
      "authorship_tag": "ABX9TyO+0rgj9G+etB7wxs7Xy4N0",
      "include_colab_link": true
    },
    "kernelspec": {
      "name": "python3",
      "display_name": "Python 3"
    },
    "language_info": {
      "name": "python"
    }
  },
  "cells": [
    {
      "cell_type": "markdown",
      "metadata": {
        "id": "view-in-github",
        "colab_type": "text"
      },
      "source": [
        "<a href=\"https://colab.research.google.com/github/agymjz09/F55121076_Agym-Mahaputra-Romy.-B_TUGAS-KB/blob/main/F55121076_Agym_Mahaputra_R_B_TUGAS_KB.ipynb\" target=\"_parent\"><img src=\"https://colab.research.google.com/assets/colab-badge.svg\" alt=\"Open In Colab\"/></a>"
      ]
    },
    {
      "cell_type": "code",
      "execution_count": 3,
      "metadata": {
        "colab": {
          "base_uri": "https://localhost:8080/",
          "height": 616
        },
        "id": "Kg_lqhExnrIM",
        "outputId": "4b726742-2904-4899-b26a-6baf6c8aeea4"
      },
      "outputs": [
        {
          "output_type": "stream",
          "name": "stdout",
          "text": [
            "              precision    recall  f1-score   support\n",
            "\n",
            "           0       0.78      0.93      0.85       101\n",
            "           1       0.79      0.49      0.60        53\n",
            "\n",
            "    accuracy                           0.78       154\n",
            "   macro avg       0.78      0.71      0.73       154\n",
            "weighted avg       0.78      0.78      0.76       154\n",
            "\n"
          ]
        },
        {
          "output_type": "execute_result",
          "data": {
            "text/plain": [
              "Text(69.0, 0.5, 'Truth')"
            ]
          },
          "metadata": {},
          "execution_count": 3
        },
        {
          "output_type": "display_data",
          "data": {
            "text/plain": [
              "<Figure size 720x504 with 2 Axes>"
            ],
            "image/png": "[encoded data removed]"
          },
          "metadata": {
            "needs_background": "light"
          }
        }
      ],
      "source": [
        "# Nama  : Agym Mahaputra R. B\n",
        "# NIM   : F55121076\n",
        "# Kelas : B\n",
        "\n",
        "# Importing Libraries\n",
        "import pandas as pd\n",
        "import matplotlib.pyplot as plt\n",
        "import seaborn as sn\n",
        "from sklearn import svm\n",
        "from sklearn.metrics import classification_report, confusion_matrix\n",
        "from sklearn.model_selection import train_test_split\n",
        " \n",
        "#impor CSV ke dataset\n",
        "diabetes = pd.read_csv('diabetes.csv')\n",
        " \n",
        "#deklarasi training dan testing data\n",
        "X = diabetes[['Pregnancies', 'Glucose',\t'BloodPressure', 'SkinThickness',\t'Insulin',\t'BMI',\t'DiabetesPedigreeFunction',\t'Age']]\n",
        "y = diabetes['Outcome']\n",
        " \n",
        "X_train, X_test, y_train, y_test = train_test_split(X, y, test_size = 0.2)\n",
        " \n",
        "#menggunakan SVM library untuk membuat SVM classifier\n",
        "classifier = svm.SVC(kernel = 'linear')\n",
        " \n",
        "#memasukkan training data kedalam classifier\n",
        "classifier.fit(X_train, y_train)\n",
        " \n",
        "#memasukkan testing data ke variabel y_predict\n",
        "y_predict = classifier.predict(X_test)\n",
        " \n",
        "#menampilkan classification report\n",
        "print(classification_report(y_test, y_predict))\n",
        " \n",
        "#mengimplementasikan testing data dan hasil prediksi dalam confusion matrix\n",
        "cm = confusion_matrix(y_test, y_predict)\n",
        " \n",
        "#membuat plotting confusion matrix\n",
        "%matplotlib inline\n",
        "plt.figure (figsize=(10,7))\n",
        "sn.heatmap(cm, annot=True)\n",
        "plt.xlabel('Predicted')\n",
        "plt.ylabel('Truth')"
      ]
    }
  ]
}